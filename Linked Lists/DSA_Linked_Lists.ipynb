{
  "nbformat": 4,
  "nbformat_minor": 0,
  "metadata": {
    "colab": {
      "name": "DSA Linked Lists.ipynb",
      "provenance": [],
      "collapsed_sections": []
    },
    "kernelspec": {
      "name": "python3",
      "display_name": "Python 3"
    },
    "language_info": {
      "name": "python"
    }
  },
  "cells": [
    {
      "cell_type": "markdown",
      "metadata": {
        "id": "2fogGO-nmA-o"
      },
      "source": [
        "# **LINKED LISTS - PYTHON**"
      ]
    },
    {
      "cell_type": "code",
      "metadata": {
        "id": "AorZV7etGLmY"
      },
      "source": [
        "class Node:\n",
        "\n",
        "\t# Function to initialise the node object\n",
        "\tdef __init__(self, data):\n",
        "\t\tself.data = data # Assign data\n",
        "\t\tself.next = None # Initialize next as null\n",
        "\n",
        "# Linked List class contains a Node object\n",
        "class LinkedList:\n",
        "\n",
        "  # Function to initialize head\n",
        "  def __init__(self):\n",
        "    self.head = None\n",
        "\n",
        "  # -----------------------------------------------#\n",
        "\n",
        "  # Function to insert a new node at the beginning\n",
        "  def push(self, new_data):\n",
        "    new_node = Node(new_data) # 1 & 2: Allocate the Node & Put in the data\n",
        "    new_node.next = self.head # 3. Make next of new Node as head\n",
        "    self.head = new_node  \t\t# 4. Move the head to point to new Node \n",
        "\n",
        "  # -----------------------------------------------#\n",
        "\n",
        "  # Appends a new node at the end\n",
        "  def append(self, new_data): \n",
        "    new_node = Node(new_data) \t\t# 1. Create a new node , 2. Put in the data , 3. Set next as None\n",
        "    if self.head is None: \t\t    # 4. If the Linked List is empty, then make the new node as head\n",
        "          self.head = new_node\n",
        "          return\n",
        "\n",
        "    last = self.head              # 5. Else traverse till the last node\n",
        "    while (last.next):\n",
        "        last = last.next\n",
        "\n",
        "    last.next =  new_node \t\t    # 6. Change the next of last node\n",
        "\n",
        "  # -----------------------------------------------#\n",
        "\n",
        "  # Given a reference to the head of a list and a key, \n",
        "  # delete the first occurrence of key in linked list \n",
        "  def deleteNode(self, key): \n",
        "      \n",
        "      temp = self.head       # Store head node \n",
        "      if (temp is not None):       # If head node itself holds the key to be deleted \n",
        "          if (temp.data == key): \n",
        "              self.head = temp.next\n",
        "              temp = None\n",
        "              return\n",
        " \n",
        "      while(temp is not None):    # Search for the key to be deleted, keep track of the previous node as we need to change 'prev.next'\n",
        "          if temp.data == key: \n",
        "              break\n",
        "          prev = temp \n",
        "          temp = temp.next\n",
        "\n",
        "      if(temp == None):       # if key was not present in linked list \n",
        "          return\n",
        "\n",
        "      prev.next = temp.next      # Unlink the node from linked list \n",
        "      temp = None\n",
        "  \n",
        "  # -----------------------------------------------#\n",
        "\n",
        "  def deleteNodePos(self, position):\n",
        " \n",
        "      if self.head == None:      # If linked list is empty\n",
        "          return\n",
        "\n",
        "      temp = self.head      # Store head node\n",
        "\n",
        "      if position == 0:      # If head needs to be removed\n",
        "          self.head = temp.next\n",
        "          temp = None\n",
        "          return\n",
        "\n",
        "      for i in range(position -1 ):      # Find previous node of the node to be deleted\n",
        "          temp = temp.next\n",
        "          if temp is None:\n",
        "              break\n",
        "\n",
        "      if temp is None:      # If position is more than number of nodes\n",
        "          return\n",
        "      if temp.next is None:\n",
        "          return\n",
        "\n",
        "      next = temp.next.next      # Node temp.next is the node to be deleted store pointer to the next of node to be deleted\n",
        "      temp.next = None      # Unlink the node from linked list\n",
        "      temp.next = next\n",
        "\n",
        "  # -----------------------------------------------#\n",
        "\n",
        "  def findMid(self):\n",
        "    if not (self.head):\n",
        "      print(\"Linked list is empty\")\n",
        "    else:\n",
        "      slow = self.head\n",
        "      fast = self.head\n",
        "      while(fast and fast.next):\n",
        "        slow = slow.next\n",
        "        fast = fast.next\n",
        "        if fast:\n",
        "          fast = fast.next\n",
        "      print(slow.data)\n",
        "\n",
        "  # -----------------------------------------------#\n",
        "\n",
        "  def findLength(self):\n",
        "    curr = self.head\n",
        "    length = 0\n",
        "    while curr:\n",
        "      length += 1\n",
        "      curr = curr.next\n",
        "    print(\"Length of linked list is: \",length)\n",
        "\n",
        "  # -----------------------------------------------#\n",
        "\n",
        "  def findLengthRecur(self, node):\n",
        "    if node is None:\n",
        "      return 0\n",
        "    return 1 + self.findLengthRecur(node.next)\n",
        "\n",
        "  # -----------------------------------------------#\n",
        "\n",
        "  # Printing the linked list\n",
        "  def printList(self):\n",
        "    print(\"Linked list is : \", end=' ')\n",
        "    temp = self.head\n",
        "    while (temp):\n",
        "      if temp.next!=None:\n",
        "        print (temp.data, end=' -> ')\n",
        "      else:\n",
        "        print (temp.data)\n",
        "      temp = temp.next"
      ],
      "execution_count": 1,
      "outputs": []
    },
    {
      "cell_type": "markdown",
      "metadata": {
        "id": "tvYSSOuCKTqy"
      },
      "source": [
        "### **Creating a linked list with three nodes initially**"
      ]
    },
    {
      "cell_type": "code",
      "metadata": {
        "colab": {
          "base_uri": "https://localhost:8080/"
        },
        "id": "NyTao6pFIATt",
        "outputId": "f28e7807-a329-47c4-f316-52e2c9bbee65"
      },
      "source": [
        "llist = LinkedList()\n",
        " \n",
        "llist.head = Node(1)\n",
        "second = Node(2)\n",
        "third = Node(3)\n",
        "llist.head.next = second; # Link first node with second\n",
        "second.next = third; # Link second node with the third node\n",
        "llist.printList()"
      ],
      "execution_count": 2,
      "outputs": [
        {
          "output_type": "stream",
          "text": [
            "Linked list is :  1 -> 2 -> 3\n"
          ],
          "name": "stdout"
        }
      ]
    },
    {
      "cell_type": "markdown",
      "metadata": {
        "id": "NO_zVv8NK8Gt"
      },
      "source": [
        "### **Pushing an element at the beginning**"
      ]
    },
    {
      "cell_type": "code",
      "metadata": {
        "colab": {
          "base_uri": "https://localhost:8080/"
        },
        "id": "QvwQb_ZjLKBn",
        "outputId": "f6c0de27-11a0-4979-dab3-b02548865bdc"
      },
      "source": [
        "print(\"After pushing 20 at the beginning , \", end='')\n",
        "llist.push(20)\n",
        "llist.printList()\n",
        "\n",
        "print(\"After pushing 10 at the beginning , \", end='')\n",
        "llist.push(10)\n",
        "llist.printList()"
      ],
      "execution_count": 3,
      "outputs": [
        {
          "output_type": "stream",
          "text": [
            "After pushing 20 at the beginning , Linked list is :  20 -> 1 -> 2 -> 3\n",
            "After pushing 10 at the beginning , Linked list is :  10 -> 20 -> 1 -> 2 -> 3\n"
          ],
          "name": "stdout"
        }
      ]
    },
    {
      "cell_type": "markdown",
      "metadata": {
        "id": "szLO4PKJLmk1"
      },
      "source": [
        "### **Inserting/Appending element at the end**"
      ]
    },
    {
      "cell_type": "code",
      "metadata": {
        "colab": {
          "base_uri": "https://localhost:8080/"
        },
        "id": "p9c9qxmALr91",
        "outputId": "26830229-60ab-4b00-c81f-76d606d7c047"
      },
      "source": [
        "print(\"After appending 4 at the end , \", end='')\n",
        "llist.append(4)\n",
        "llist.printList()\n",
        "\n",
        "print(\"After appending 5 at the end , \", end='')\n",
        "llist.append(5)\n",
        "llist.printList()"
      ],
      "execution_count": 4,
      "outputs": [
        {
          "output_type": "stream",
          "text": [
            "After appending 4 at the end , Linked list is :  10 -> 20 -> 1 -> 2 -> 3 -> 4\n",
            "After appending 5 at the end , Linked list is :  10 -> 20 -> 1 -> 2 -> 3 -> 4 -> 5\n"
          ],
          "name": "stdout"
        }
      ]
    },
    {
      "cell_type": "markdown",
      "metadata": {
        "id": "MSEMSRFsPtxR"
      },
      "source": [
        "### **Deleting a given node**"
      ]
    },
    {
      "cell_type": "code",
      "metadata": {
        "colab": {
          "base_uri": "https://localhost:8080/"
        },
        "id": "t8YrogwKOqaT",
        "outputId": "bab8ad61-942a-4891-d1fc-1e37ce888ae9"
      },
      "source": [
        "print(\"Deleting 20 from the linked list , \", end=' ')\n",
        "llist.deleteNode(20)\n",
        "llist.printList()"
      ],
      "execution_count": 5,
      "outputs": [
        {
          "output_type": "stream",
          "text": [
            "Deleting 20 from the linked list ,  Linked list is :  10 -> 1 -> 2 -> 3 -> 4 -> 5\n"
          ],
          "name": "stdout"
        }
      ]
    },
    {
      "cell_type": "markdown",
      "metadata": {
        "id": "GsaLje7YQIHO"
      },
      "source": [
        "### **Deleting node at a given position**"
      ]
    },
    {
      "cell_type": "code",
      "metadata": {
        "colab": {
          "base_uri": "https://localhost:8080/"
        },
        "id": "KDogp6fKQ9sO",
        "outputId": "63c6dd97-8c81-4885-d8d9-393187555452"
      },
      "source": [
        "print(\"Deleting node at index 5 , \", end='')\n",
        "llist.deleteNodePos(5)\n",
        "llist.printList()"
      ],
      "execution_count": 6,
      "outputs": [
        {
          "output_type": "stream",
          "text": [
            "Deleting node at index 5 , Linked list is :  10 -> 1 -> 2 -> 3 -> 4\n"
          ],
          "name": "stdout"
        }
      ]
    },
    {
      "cell_type": "markdown",
      "metadata": {
        "id": "tAbNDuKaZHi8"
      },
      "source": [
        "### **Find middle element of the linked list**\n",
        "**(Works only if length of the linked list is odd)**"
      ]
    },
    {
      "cell_type": "code",
      "metadata": {
        "colab": {
          "base_uri": "https://localhost:8080/"
        },
        "id": "Jg8TnC0lZHDp",
        "outputId": "47edf4ec-a2a7-4ffe-81c1-83791c2e99b1"
      },
      "source": [
        "print(\"Middle element of linked list is : \", end='')\n",
        "llist.findMid()"
      ],
      "execution_count": 7,
      "outputs": [
        {
          "output_type": "stream",
          "text": [
            "Middle element of linked list is : 2\n"
          ],
          "name": "stdout"
        }
      ]
    },
    {
      "cell_type": "markdown",
      "metadata": {
        "id": "qd8qR9Cvlsx9"
      },
      "source": [
        "### **Finding length of linked list**"
      ]
    },
    {
      "cell_type": "code",
      "metadata": {
        "colab": {
          "base_uri": "https://localhost:8080/"
        },
        "id": "qEwgU5o2lxOW",
        "outputId": "e2783be0-dea6-4262-ef15-8d53a8b2d949"
      },
      "source": [
        "llist.findLength()"
      ],
      "execution_count": 8,
      "outputs": [
        {
          "output_type": "stream",
          "text": [
            "Length of linked list is:  5\n"
          ],
          "name": "stdout"
        }
      ]
    },
    {
      "cell_type": "markdown",
      "metadata": {
        "id": "6o3Iy6ONn4gj"
      },
      "source": [
        "### **Find length of linked list (Recursive way)**"
      ]
    },
    {
      "cell_type": "code",
      "metadata": {
        "colab": {
          "base_uri": "https://localhost:8080/"
        },
        "id": "Z-put0jAn-pM",
        "outputId": "ca6ced48-4c06-419f-9667-7c9965916bd2"
      },
      "source": [
        "print(\"Length of linked list (recursive-way) is: \", end='')\n",
        "llist.findLengthRecur(llist.head)"
      ],
      "execution_count": 9,
      "outputs": [
        {
          "output_type": "stream",
          "text": [
            "Length of linked list (recursive-way) is: "
          ],
          "name": "stdout"
        },
        {
          "output_type": "execute_result",
          "data": {
            "text/plain": [
              "5"
            ]
          },
          "metadata": {
            "tags": []
          },
          "execution_count": 9
        }
      ]
    }
  ]
}