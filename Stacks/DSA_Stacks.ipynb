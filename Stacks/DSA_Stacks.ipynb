{
  "nbformat": 4,
  "nbformat_minor": 0,
  "metadata": {
    "colab": {
      "name": "DSA Stacks.ipynb",
      "provenance": [],
      "collapsed_sections": []
    },
    "kernelspec": {
      "name": "python3",
      "display_name": "Python 3"
    },
    "language_info": {
      "name": "python"
    }
  },
  "cells": [
    {
      "cell_type": "markdown",
      "metadata": {
        "id": "P7IW-sJMRNel"
      },
      "source": [
        "# **STACKS**\n",
        "* Introduction : [Click here](https://www.geeksforgeeks.org/stack-data-structure/)"
      ]
    },
    {
      "cell_type": "markdown",
      "metadata": {
        "id": "5nROVqy4SKKn"
      },
      "source": [
        "### **Stack using List**"
      ]
    },
    {
      "cell_type": "code",
      "metadata": {
        "colab": {
          "base_uri": "https://localhost:8080/"
        },
        "id": "X8RwvoGyRCIq",
        "outputId": "a2e24d63-c2f7-4056-e7fc-efd635659a5b"
      },
      "source": [
        "stack = []\n",
        "\n",
        "# append() function to push element in the stack\n",
        "stack.append('a')\n",
        "stack.append('b')\n",
        "stack.append('c')\n",
        "\n",
        "print('Initial stack : ', end='')\n",
        "print(stack)\n",
        "\n",
        "print(\"\\nTop of stack is : \", end='')\n",
        "print(stack[-1])\n",
        "\n",
        "# pop() fucntion to pop element from stack in LIFO order\n",
        "print('\\nElements poped from stack : ')\n",
        "print(stack.pop())\n",
        "print(stack.pop())\n",
        "print(stack.pop())\n",
        "\n",
        "print('\\nStack after elements are poped : ', end='')\n",
        "print(stack)"
      ],
      "execution_count": 1,
      "outputs": [
        {
          "output_type": "stream",
          "text": [
            "Initial stack : ['a', 'b', 'c']\n",
            "\n",
            "Top of stack is : c\n",
            "\n",
            "Elements poped from stack : \n",
            "c\n",
            "b\n",
            "a\n",
            "\n",
            "Stack after elements are poped : []\n"
          ],
          "name": "stdout"
        }
      ]
    },
    {
      "cell_type": "markdown",
      "metadata": {
        "id": "jwEouUrsV6AW"
      },
      "source": [
        "### **Customized stack using *List***"
      ]
    },
    {
      "cell_type": "code",
      "metadata": {
        "colab": {
          "base_uri": "https://localhost:8080/"
        },
        "id": "H493ziFKWFfJ",
        "outputId": "713152ed-9b7f-43c3-8d42-7ac0dd34122f"
      },
      "source": [
        "# import maxsize from sys module\n",
        "# Used to return -infinite when stack is empty\n",
        "from sys import maxsize\n",
        "\n",
        "# Function to create a stack. It initializes size of stack as 0\n",
        "def createStack():\n",
        "\tstack = []\n",
        "\treturn stack\n",
        "\n",
        "# Stack is empty when stack size is 0\n",
        "def isEmpty(stack):\n",
        "\treturn len(stack) == 0\n",
        "\n",
        "# Function to add an item to stack. It increases size by 1\n",
        "def push(stack, item):\n",
        "\tstack.append(item)\n",
        "\tprint(item + \" pushed to stack \")\n",
        "\t\n",
        "# Function to remove an item from stack. It decreases size by 1\n",
        "def pop(stack):\n",
        "\tif (isEmpty(stack)):\n",
        "\t\treturn str(-maxsize -1) # return minus infinite\n",
        "\t\n",
        "\treturn stack.pop()\n",
        "\n",
        "# Function to return the top from stack without removing it\n",
        "def peek(stack):\n",
        "\tif (isEmpty(stack)):\n",
        "\t\treturn str(-maxsize -1) # return minus infinite\n",
        "\treturn stack[len(stack) - 1]\n",
        "\n",
        "# Driver program to test above functions\n",
        "stack = createStack()\n",
        "\n",
        "print(\"Is stack empty?\", isEmpty(stack))\n",
        "\n",
        "print(\"\\nInserting elements into the stack :\")\n",
        "push(stack, str(10))\n",
        "push(stack, str(20))\n",
        "push(stack, str(30))\n",
        "\n",
        "print(\"\\nIs stack empty?\", isEmpty(stack))\n",
        "\n",
        "print(\"\\nPopping from the stack :\")\n",
        "print(pop(stack) + \" popped from stack\")\n",
        "\n",
        "print(\"\\nTop of stack is  :\", peek(stack))\n"
      ],
      "execution_count": 2,
      "outputs": [
        {
          "output_type": "stream",
          "text": [
            "Is stack empty? True\n",
            "\n",
            "Inserting elements into the stack :\n",
            "10 pushed to stack \n",
            "20 pushed to stack \n",
            "30 pushed to stack \n",
            "\n",
            "Is stack empty? False\n",
            "\n",
            "Popping from the stack :\n",
            "30 popped from stack\n",
            "\n",
            "Top of stack is  : 20\n"
          ],
          "name": "stdout"
        }
      ]
    },
    {
      "cell_type": "markdown",
      "metadata": {
        "id": "l3Yj-bDeS4Qk"
      },
      "source": [
        "### **Stack using *deque* from *collections* module**"
      ]
    },
    {
      "cell_type": "code",
      "metadata": {
        "colab": {
          "base_uri": "https://localhost:8080/"
        },
        "id": "hihmiOs7TM5C",
        "outputId": "3eaac0c0-5667-4b4c-be96-f16c3caf1c80"
      },
      "source": [
        "# Python program to demonstrate stack implementation using collections.deque\n",
        "from collections import deque\n",
        "\n",
        "stack = deque()\n",
        "\n",
        "# append() function to push element in the stack\n",
        "stack.append('a')\n",
        "stack.append('b')\n",
        "stack.append('c')\n",
        "\n",
        "print('Initial stack : ', end='')\n",
        "print(stack)\n",
        "\n",
        "print(\"\\nTop of stack is : \", end='')\n",
        "print(stack[-1])\n",
        "\n",
        "# pop() fucntion to pop element from stack in LIFO order\n",
        "print('\\nElements poped from stack:')\n",
        "print(stack.pop())\n",
        "print(stack.pop())\n",
        "print(stack.pop())\n",
        "\n",
        "print('\\nStack after elements are poped : ', end='')\n",
        "print(stack)"
      ],
      "execution_count": 3,
      "outputs": [
        {
          "output_type": "stream",
          "text": [
            "Initial stack : deque(['a', 'b', 'c'])\n",
            "\n",
            "Top of stack is : c\n",
            "\n",
            "Elements poped from stack:\n",
            "c\n",
            "b\n",
            "a\n",
            "\n",
            "Stack after elements are poped : deque([])\n"
          ],
          "name": "stdout"
        }
      ]
    },
    {
      "cell_type": "markdown",
      "metadata": {
        "id": "iFFlMO3CTo6z"
      },
      "source": [
        "### **Stack using *queue* from *LifoQueue* module**\n",
        "* maxsize – Number of items allowed in the queue.\n",
        "* empty() – Return True if the queue is empty, False otherwise.\n",
        "* full() – Return True if there are maxsize items in the queue. If the queue was initialized with maxsize=0 (the default), then full() never returns True.\n",
        "* get() – Remove and return an item from the queue. If queue is empty, wait until an item is available.\n",
        "* get_nowait() – Return an item if one is immediately available, else raise QueueEmpty.\n",
        "* put(item) – Put an item into the queue. If the queue is full, wait until a free slot is available before adding the item.\n",
        "* put_nowait(item) – Put an item into the queue without blocking.\n",
        "* qsize() – Return the number of items in the queue. If no free slot is immediately available, raise QueueFull."
      ]
    },
    {
      "cell_type": "code",
      "metadata": {
        "colab": {
          "base_uri": "https://localhost:8080/"
        },
        "id": "MAzbtBXGTt6O",
        "outputId": "523a7aa1-4be5-4c6d-fc03-9f23e6a1cb63"
      },
      "source": [
        "# Python program to demonstrate stack implementation using queue module\n",
        "from queue import LifoQueue\n",
        "\n",
        "stack = LifoQueue(maxsize = 3)\n",
        "\n",
        "# put() function to push element in the stack\n",
        "stack.put('a')\n",
        "stack.put('b')\n",
        "stack.put('c')\n",
        "\n",
        "# qsize() show the number of elements in the stack\n",
        "print(\"Number of elements in the stack : \", stack.qsize())\n",
        "\n",
        "print(\"\\nIs stack full?\", stack.full())\n",
        "print(\"\\nSize of stack is : \", stack.qsize())\n",
        "\n",
        "# get() fucntion to pop element from stack in LIFO order\n",
        "print('\\nElements poped from the stack :')\n",
        "print(stack.get())\n",
        "print(stack.get())\n",
        "print(stack.get())\n",
        "\n",
        "print(\"\\nIs stack Empty?\", stack.empty())\n"
      ],
      "execution_count": 4,
      "outputs": [
        {
          "output_type": "stream",
          "text": [
            "Number of elements in the stack :  3\n",
            "\n",
            "Is stack full? True\n",
            "\n",
            "Size of stack is :  3\n",
            "\n",
            "Elements poped from the stack :\n",
            "c\n",
            "b\n",
            "a\n",
            "\n",
            "Is stack Empty? True\n"
          ],
          "name": "stdout"
        }
      ]
    },
    {
      "cell_type": "markdown",
      "metadata": {
        "id": "vYXvB5OCVOaU"
      },
      "source": [
        "### **Stack using *Singly Linked List***"
      ]
    },
    {
      "cell_type": "code",
      "metadata": {
        "colab": {
          "base_uri": "https://localhost:8080/"
        },
        "id": "_gDrsFouVUM5",
        "outputId": "ccbf44be-74eb-4eff-f80c-6d4513485f7c"
      },
      "source": [
        "# Python program to demonstrate\n",
        "# stack implementation using a linked list.\n",
        "# node class\n",
        "class Node:\n",
        "  def __init__(self, value):\n",
        "    self.value = value\n",
        "    self.next = None\n",
        "\n",
        "class Stack:\n",
        "\t\n",
        "  # Initializing a stack. Use a dummy node, which is  easier for handling edge cases.\n",
        "  def __init__(self):\n",
        "    self.head = Node(\"head\")\n",
        "    self.size = 0\n",
        "\n",
        "  # String representation of the stack\n",
        "  def __str__(self):\n",
        "    cur = self.head.next\n",
        "    out = \"\"\n",
        "    while cur:\n",
        "      if cur.next!=None:\n",
        "        out += str(cur.value) + \" -> \"\n",
        "      else:\n",
        "        out += str(cur.value)\n",
        "      cur = cur.next\n",
        "    return out\n",
        "\n",
        "  # Get the current size of the stack\n",
        "  def getSize(self):\n",
        "    return self.size\n",
        "    \n",
        "  # Check if the stack is empty\n",
        "  def isEmpty(self):\n",
        "    return self.size == 0\n",
        "    \n",
        "  # Get the top item of the stack\n",
        "  def peek(self):\n",
        "    \n",
        "    # Sanitary check to see if we are peeking an empty stack.\n",
        "    if self.isEmpty():\n",
        "      raise Exception(\"Peeking from an empty stack\")\n",
        "    return self.head.next.value\n",
        "\n",
        "  # Push a value into the stack.\n",
        "  def push(self, value):\n",
        "    node = Node(value)\n",
        "    node.next = self.head.next\n",
        "    self.head.next = node\n",
        "    self.size += 1\n",
        "    \n",
        "  # Remove a value from the stack and return.\n",
        "  def pop(self):\n",
        "    if self.isEmpty():\n",
        "      raise Exception(\"Popping from an empty stack\")\n",
        "    remove = self.head.next\n",
        "    self.head.next = self.head.next.next\n",
        "    self.size -= 1\n",
        "    return remove.value\n",
        "\n",
        "\n",
        "stack = Stack()\n",
        "\n",
        "print(\"Pushing elements 1-10 :\")\n",
        "for i in range(1, 11):\n",
        "  stack.push(i)\n",
        "print(f\"\\nStack: {stack}\")\n",
        "\n",
        "print(f\"\\nTop of stack is : {stack.peek()}\")\n",
        "\n",
        "print(f\"\\nSize of stack is : {stack.getSize()}\")\n",
        "\n",
        "print(\"\\nPopping 5 elements from the top :\")\n",
        "for _ in range(1, 6):\n",
        "  remove = stack.pop()\n",
        "  print(f\"Pop: {remove}\")\n",
        "\n",
        "print(f\"\\nTop of stack is : {stack.peek()}\")\n",
        "\n",
        "print(f\"\\nSize of stack is : {stack.getSize()}\")\n",
        "\n",
        "print(f\"\\nStack: {stack}\")\n"
      ],
      "execution_count": 5,
      "outputs": [
        {
          "output_type": "stream",
          "text": [
            "Pushing elements 1-10 :\n",
            "\n",
            "Stack: 10 -> 9 -> 8 -> 7 -> 6 -> 5 -> 4 -> 3 -> 2 -> 1\n",
            "\n",
            "Top of stack is : 10\n",
            "\n",
            "Size of stack is : 10\n",
            "\n",
            "Popping 5 elements from the top :\n",
            "Pop: 10\n",
            "Pop: 9\n",
            "Pop: 8\n",
            "Pop: 7\n",
            "Pop: 6\n",
            "\n",
            "Top of stack is : 5\n",
            "\n",
            "Size of stack is : 5\n",
            "\n",
            "Stack: 5 -> 4 -> 3 -> 2 -> 1\n"
          ],
          "name": "stdout"
        }
      ]
    }
  ]
}